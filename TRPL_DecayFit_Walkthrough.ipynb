{
 "cells": [
  {
   "cell_type": "markdown",
   "id": "0ba8ed96",
   "metadata": {},
   "source": [
    "# TRPL Curve Fitting\n",
    "### Exponential and Multi-Exponential\n",
    "***\n",
    "This Program will import TRPL decay data, convert the information into data with applicable units, and fit the decay curve.\n",
    "\n",
    "For fitting these decays, it is useful to plot the data scaled by the natual log, and then use a simple linear curve fit to simplify the process.\n",
    "\n",
    "Single exponential curves can be fit with a straight line, while Multi-Exponential decays will need to be fit with a piecewise line corresponding to each decay. \n",
    "\n",
    "This program will be able to fit both types of decay, and the appropriate cells to run will be made clear by analyzing the logarythmic plot of the TRPL decay."
   ]
  },
  {
   "cell_type": "code",
   "execution_count": 2,
   "id": "de4d0513",
   "metadata": {},
   "outputs": [],
   "source": [
    "#Imports\n",
    "import matplotlib as mpl\n",
    "import matplotlib.pyplot as plt\n",
    "import numpy as np\n",
    "import scipy as sp\n",
    "import pandas as pd\n",
    "from scipy.optimize import curve_fit\n",
    "import math"
   ]
  },
  {
   "cell_type": "markdown",
   "id": "5c9d7aa5",
   "metadata": {},
   "source": [
    "### Importing the data file\n",
    "***\n",
    "We will utilize pandas to read in the txt files of our data.\n",
    "\n",
    "fileName will be the location of your data file as well as the name, and it will be important to specify the exact file location in order to import the right data.\n",
    "\n",
    "Once imported and saved to a dataframe, the data will be converted to appropriate units:\n",
    "- The x-axis will be changed from channels to nanoseconds.\n",
    "- The y-axis will be scaled logarythmically."
   ]
  },
  {
   "cell_type": "code",
   "execution_count": 36,
   "id": "13095e55",
   "metadata": {},
   "outputs": [
    {
     "name": "stdout",
     "output_type": "stream",
     "text": [
      "Read in file: CVD3643_872nm.txt\n"
     ]
    }
   ],
   "source": [
    "#Importing the Data from text file\n",
    "df = []\n",
    "#File Name\n",
    "fileName = ''\n",
    "#File Path\n",
    "path = ''\n",
    "#Reading in the file, cutting off the runtime data from Fluorolog\n",
    "data = pd.read_csv(path+fileName, header=5, sep='\\t')\n",
    "\n",
    "#Saving the data as lists, in correct units.\n",
    "x = data['Chan'] * (5.486969*10**-2) #Converting x values from bins to ns\n",
    "\n",
    "#Making y data logarithmic, to give straight lines to fit rather than exponential\n",
    "logy = np.log(data['Data'])\n",
    "for i in logy:\n",
    "    if math.isnan(i):\n",
    "        i = 0\n",
    "y = data['Data']\n",
    "\n",
    "#Affirmation of file read-in\n",
    "print('Read in file:', fileName)"
   ]
  },
  {
   "cell_type": "code",
   "execution_count": null,
   "id": "6edc0698",
   "metadata": {},
   "outputs": [],
   "source": []
  },
  {
   "cell_type": "code",
   "execution_count": 19,
   "id": "8b1dd32d",
   "metadata": {},
   "outputs": [],
   "source": [
    "def plot(x, y, title):\n",
    "    \"\"\"Takes x and y values and plots them with the proper customization to the plots, giving a title and \n",
    "    sizing the plot points so that they are readable.\"\"\"\n",
    "    \n",
    "    #Setting the axes and plotting data\n",
    "    plt.rcParams['figure.figsize'] = [10,8]\n",
    "    plt.scatter( x, y, c='black', s=4)\n",
    "\n",
    "    #Plot Customization\n",
    "    plt.title(title)\n",
    "    plt.xlabel('time (ns)')\n",
    "    plt.ylabel('photon counts')"
   ]
  },
  {
   "cell_type": "code",
   "execution_count": 37,
   "id": "673a8c8e",
   "metadata": {},
   "outputs": [
    {
     "data": {
      "image/png": "[encoded data removed]",
      "text/plain": [
       "<Figure size 720x576 with 1 Axes>"
      ]
     },
     "metadata": {
      "needs_background": "light"
     },
     "output_type": "display_data"
    }
   ],
   "source": [
    "#Plotting the Scatter Plot\n",
    "plot(x,y, fileName)\n",
    "plt.yscale('log')\n",
    "plt.xlim(0,120)\n",
    "\n",
    "#OPTIONAL: Saves the file as a png image\n",
    "#plt.savefig(fileName + '.png')\n",
    "plt.show()"
   ]
  },
  {
   "cell_type": "markdown",
   "id": "cc0e3c17",
   "metadata": {},
   "source": [
    "### Fitting a Single-Exponential Decay\n",
    "\n",
    "This group of cells applies to a single-exponential decay curve. It will conduct a linear fit on the data from 15 points past the maximum (to account for the small bump at the peak) and through the next 100 points. \n",
    "\n",
    "\n",
    "It is a goal of mine to eventually make this fit automatically select the most accurate point range to fit based on sum of squared residuals and overall error. Right now, I roughly select a portion of the points.\n",
    "\n",
    "There is a scatter plot that shows the data points as well as the line of fit, and if there is any curve to this, the data range can be manipulated to ensure a straight line and a good fit."
   ]
  },
  {
   "cell_type": "markdown",
   "id": "242ffc6d",
   "metadata": {},
   "source": [
    "***\n",
    "We can start by finding the range of the data that we will be fitting, and saving that into a cropped list."
   ]
  },
  {
   "cell_type": "code",
   "execution_count": 40,
   "id": "2086ebba",
   "metadata": {},
   "outputs": [
    {
     "name": "stdout",
     "output_type": "stream",
     "text": [
      "The max of the data is 6.30, which is 546 photon counts.\n"
     ]
    }
   ],
   "source": [
    "#Finding the maximum value as well as the index this is at\n",
    "maxval = max(logy)\n",
    "print(f'The max of the data is {maxval:.2f}, which is {np.exp(maxval):.0f} photon counts.')\n",
    "y2 = logy.tolist()\n",
    "\n",
    "maxindex = y2.index(maxval)\n",
    "t0 = x[maxindex]\n",
    "\n",
    "#Making lists for the line we are fitting\n",
    "x2 = data['Chan'].tolist()\n",
    "fitx = []\n",
    "for i in range(0,80):\n",
    "    fitx.append(i*(5.486969*10**-2))\n",
    "fity = []\n",
    "for i in range(5,85):\n",
    "    fity.append(y2[maxindex+i])"
   ]
  },
  {
   "cell_type": "markdown",
   "id": "3ab87028",
   "metadata": {},
   "source": [
    "***\n",
    "With the data now, we can fit the slope, and get the linear line that best fits the scatter plot."
   ]
  },
  {
   "cell_type": "code",
   "execution_count": 41,
   "id": "d6cda2e6",
   "metadata": {},
   "outputs": [
    {
     "name": "stdout",
     "output_type": "stream",
     "text": [
      "The slope is -0.6002, with a y-intercept of 5.31\n",
      "The sum of squared residuals is 7.8646\n"
     ]
    },
    {
     "data": {
      "image/png": "[encoded data removed]",
      "text/plain": [
       "<Figure size 720x576 with 1 Axes>"
      ]
     },
     "metadata": {
      "needs_background": "light"
     },
     "output_type": "display_data"
    }
   ],
   "source": [
    "#Plotting the portion of the graph to fit\n",
    "plot(fitx,fity,fileName)\n",
    "\n",
    "#Fitting the Data\n",
    "a = 1.0\n",
    "m = np.polyfit(fitx, fity, 1, full=True)\n",
    "k,b = m[0] #k is the slope, b is the y-intercept\n",
    "ssr = m[1] #ssr is the sum of squared residuals, a way to check the goodness of fit.\n",
    "t0 = fitx[0]\n",
    "\n",
    "#Applying the slope to make y points\n",
    "slopey = []\n",
    "for i in fitx:\n",
    "    slopey.append(k*i + b)\n",
    "\n",
    "#Plotting the fit line\n",
    "plt.plot(fitx, slopey)\n",
    "print(f'The slope is {k:.4f}, with a y-intercept of {b:.2f}')\n",
    "print(f'The sum of squared residuals is {ssr[0]:.4f}')"
   ]
  },
  {
   "cell_type": "markdown",
   "id": "087e3311",
   "metadata": {},
   "source": [
    "\n"
   ]
  },
  {
   "cell_type": "markdown",
   "id": "29cb543e",
   "metadata": {},
   "source": [
    "### Solving for Lifetime.\n",
    "The slope is a numerical value, yet this corresponds to the lifetime through a little bit of algebra:\n",
    "#### *tau* = - (*t - t0*) / (*k * t*)\n",
    "Where:\n",
    "\n",
    "***tau*** is the lifetime\n",
    "\n",
    "***t*** is the time in nanoseconds (x-axis)\n",
    "\n",
    "***t0*** is the initial time in nanoseconds\n",
    "\n",
    "***k*** is the slope of the best fit line.\n"
   ]
  },
  {
   "cell_type": "code",
   "execution_count": 42,
   "id": "6879abe2",
   "metadata": {},
   "outputs": [
    {
     "name": "stdout",
     "output_type": "stream",
     "text": [
      "The lifetime of the material is 1.6661 ns.\n"
     ]
    }
   ],
   "source": [
    "tautot = 0\n",
    "count = 0\n",
    "for t in fitx[1:]:\n",
    "    tau = (-1 * (t-t0)/(k * t))\n",
    "    tautot = tautot + tau\n",
    "    count = count + 1\n",
    "tau = tautot / count\n",
    "print(f'The lifetime of the material is {tau:.4f} ns.')\n"
   ]
  },
  {
   "cell_type": "markdown",
   "id": "d71b0e48",
   "metadata": {},
   "source": [
    "***\n",
    "### Finding Multi-Decay Lifetimes\n",
    "\n",
    "This portion of the code specifically details the fitting process for a double or multi-exponential decay."
   ]
  },
  {
   "cell_type": "markdown",
   "id": "b1be0184",
   "metadata": {},
   "source": [
    "This cell defines a piecewise function, with a slope and intercept for each decay. This particular definition makes a function with two distinct decays.\n",
    "\n",
    "If more decays are present in the graph when plotted, you can add another linear slope to the piecewise function with its respective variables. For example, if I wanted to do a fit for three decays, I would add this line of code below two's definition:\n",
    "- three = f*x + g\n",
    "    "
   ]
  },
  {
   "cell_type": "code",
   "execution_count": 43,
   "id": "811c6a26",
   "metadata": {},
   "outputs": [],
   "source": [
    "def twolines(x, a, b, c, d):\n",
    "    one = a*x + b\n",
    "    two = c*x + d\n",
    "    return np.maximum(one,two)"
   ]
  },
  {
   "cell_type": "code",
   "execution_count": 44,
   "id": "a4123820",
   "metadata": {},
   "outputs": [
    {
     "name": "stdout",
     "output_type": "stream",
     "text": [
      "[-1.1899446   5.86815274 -0.28963913  4.33141901]\n"
     ]
    }
   ],
   "source": [
    "#This is where we use sp curve_fit to fit the data.\n",
    "pw0 = (-1.2, 6, -.4, 4.2)\n",
    "pw, cov = curve_fit(twolines, fitx, fity, pw0)\n",
    "print(pw)\n",
    "m1 = pw[0]\n",
    "m2 = pw[2]"
   ]
  },
  {
   "cell_type": "code",
   "execution_count": 45,
   "id": "7234e184",
   "metadata": {},
   "outputs": [
    {
     "data": {
      "text/plain": [
       "(1.8903717578961645, 7.1092475827643655)"
      ]
     },
     "execution_count": 45,
     "metadata": {},
     "output_type": "execute_result"
    },
    {
     "data": {
      "image/png": "[encoded data removed]",
      "text/plain": [
       "<Figure size 720x576 with 1 Axes>"
      ]
     },
     "metadata": {
      "needs_background": "light"
     },
     "output_type": "display_data"
    }
   ],
   "source": [
    "plot(fitx, fity, fileName)\n",
    "plt.plot(x, twolines(x, *pw), 'red')\n",
    "plt.xlim(0,max(fitx)+0.1)\n",
    "plt.ylim(min(fity)-1, max(fity)+1)"
   ]
  },
  {
   "cell_type": "code",
   "execution_count": null,
   "id": "0a7ae880",
   "metadata": {},
   "outputs": [],
   "source": [
    "#Finding Reduced Chi-Squared Value\n",
    "#use SIGMA ((slope - y)^2 / (numValues - numParams))\n",
    "#Will be inputted soon, working out some errors."
   ]
  },
  {
   "cell_type": "code",
   "execution_count": 20,
   "id": "a12a08d7",
   "metadata": {},
   "outputs": [
    {
     "name": "stdout",
     "output_type": "stream",
     "text": [
      "The first lifetime of the material is 0.3719 ns.\n",
      "The second lifetime of the material is 2.9288 ns.\n"
     ]
    }
   ],
   "source": [
    "tautot = 0\n",
    "count = 0\n",
    "for t in fitx[1:]:\n",
    "    tau = (-1 * (t-t0)/(m1 * t))\n",
    "    tautot = tautot + tau\n",
    "    count = count + 1\n",
    "tau = tautot / count\n",
    "print(f'The first lifetime of the material is {tau:.4f} ns.')\n",
    "\n",
    "tautot = 0\n",
    "count = 0\n",
    "for t in fitx[1:]:\n",
    "    tau = (-1 * (t-t0)/(m2 * t))\n",
    "    tautot = tautot + tau\n",
    "    count = count + 1\n",
    "tau = tautot / count\n",
    "print(f'The second lifetime of the material is {tau:.4f} ns.')"
   ]
  },
  {
   "cell_type": "code",
   "execution_count": null,
   "id": "3946e797",
   "metadata": {},
   "outputs": [],
   "source": []
  }
 ],
 "metadata": {
  "kernelspec": {
   "display_name": "Python 3 (ipykernel)",
   "language": "python",
   "name": "python3"
  },
  "language_info": {
   "codemirror_mode": {
    "name": "ipython",
    "version": 3
   },
   "file_extension": ".py",
   "mimetype": "text/x-python",
   "name": "python",
   "nbconvert_exporter": "python",
   "pygments_lexer": "ipython3",
   "version": "3.11.7"
  }
 },
 "nbformat": 4,
 "nbformat_minor": 5
}
